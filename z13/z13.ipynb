{
 "cells": [
  {
   "cell_type": "code",
   "execution_count": null,
   "metadata": {},
   "outputs": [],
   "source": []
  },
  {
   "cell_type": "code",
   "execution_count": 4,
   "metadata": {},
   "outputs": [
    {
     "name": "stderr",
     "output_type": "stream",
     "text": [
      "c:\\users\\student\\appdata\\local\\programs\\python\\python36\\lib\\site-packages\\scipy\\signal\\_arraytools.py:45: FutureWarning: Using a non-tuple sequence for multidimensional indexing is deprecated; use `arr[tuple(seq)]` instead of `arr[seq]`. In the future this will be interpreted as an array index, `arr[np.array(seq)]`, which will result either in an error or a different result.\n",
      "  b = a[a_slice]\n"
     ]
    },
    {
     "name": "stdout",
     "output_type": "stream",
     "text": [
      "[2, 3, 2, 3, 2, 3, 2, 3, 2, 3]\n"
     ]
    },
    {
     "data": {
      "image/png": "[encoded data removed]",
      "text/plain": [
       "<Figure size 432x288 with 1 Axes>"
      ]
     },
     "metadata": {},
     "output_type": "display_data"
    }
   ],
   "source": [
    "import aseegg as ag\n",
    "import numpy as np\n",
    "import pandas as pd\n",
    "import matplotlib.pyplot as plt\n",
    "\n",
    "data = pd.read_csv('sub1trial8.csv', delimiter=',', engine='python', names=['-','kanal1', 'kanal2', 'kanal3', 'kanal4','cyfra' ])\n",
    "fs=200\n",
    "data1=data['kanal1']\n",
    "data4=data['cyfra']\n",
    "t = int(len(data1)/fs)\n",
    "#linspace(first number, last number, how many numbers in array)\n",
    "x =np.linspace(0,t,t*fs)\n",
    "#prefiltered\n",
    "plt.plot(x,data1[0:t*fs],label ='sygnał')\n",
    "plt.ylabel('mikrowolty [mV]')\n",
    "plt.xlabel('czas [s]')\n",
    "plt.legend(loc='upper right')\n",
    "#plt.show()\n",
    "#filtered\n",
    "filtr1 = ag.pasmowozaporowy(data1, fs, 49, 51)\n",
    "filtr2= ag.pasmowoprzepustowy(filtr1, fs, 1, 50)\n",
    "plt.plot(x,filtr2[0:t*fs], label ='sygnał')\n",
    "plt.ylabel('mikrowolty [mV]')\n",
    "plt.xlabel('czas [s]')\n",
    "plt.legend(loc='upper right')\n",
    "#plt.show()\n",
    "plt.plot(x,data4[0:t*fs])\n",
    "plt.ylabel('cyfra [-]')\n",
    "plt.xlabel('czas [s]')\n",
    "plt.legend(loc='upper right')\n",
    "#plt.show()\n",
    "#decoded(print())\n",
    "#przefiltrowany sygnal, mrugnięcia to wzniesienie na y, wzniesienie czyli wartość y większą od Q, ale w przedziale od Q do Q, do każdej wartości dopasowana jest cyfra, dodać tę cyfrę do arraya\n",
    "\n",
    "#Q = 0.12 wyczytane z\n",
    "licznik=0\n",
    "z = 0\n",
    "mrugane = []\n",
    "for i in filtr2:\n",
    "    if i>=0.10 and z<0.10:\n",
    "        mrugane.append(data['cyfra'][licznik])\n",
    "    z=i\n",
    "    licznik+=1\n",
    "print(mrugane)"
   ]
  },
  {
   "cell_type": "code",
   "execution_count": null,
   "metadata": {},
   "outputs": [],
   "source": []
  },
  {
   "cell_type": "code",
   "execution_count": null,
   "metadata": {},
   "outputs": [],
   "source": []
  },
  {
   "cell_type": "code",
   "execution_count": null,
   "metadata": {},
   "outputs": [],
   "source": []
  },
  {
   "cell_type": "code",
   "execution_count": null,
   "metadata": {},
   "outputs": [],
   "source": []
  }
 ],
 "metadata": {
  "kernelspec": {
   "display_name": "Python 3",
   "language": "python",
   "name": "python3"
  }
 },
 "nbformat": 4,
 "nbformat_minor": 2
}
